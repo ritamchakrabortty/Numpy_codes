{
  "cells": [
    {
      "cell_type": "code",
      "execution_count": 5,
      "metadata": {
        "colab": {
          "base_uri": "https://localhost:8080/"
        },
        "id": "BAmtj5sTs07q",
        "outputId": "2b8658b3-8e1e-409f-e1e0-2ed00b693dad"
      },
      "outputs": [
        {
          "output_type": "stream",
          "name": "stdout",
          "text": [
            "[[1 2 3]\n",
            " [4 5 6]]\n"
          ]
        }
      ],
      "source": [
        "import numpy as np\n",
        "import time\n",
        "import sys\n",
        "lst = [[1,2,3],\n",
        "       [4,5,6]]\n",
        "aryld = np.array(lst)\n",
        "print(aryld)"
      ]
    },
    {
      "cell_type": "code",
      "execution_count": null,
      "metadata": {
        "colab": {
          "base_uri": "https://localhost:8080/"
        },
        "id": "1you_ZAOuFB9",
        "outputId": "956af808-b6c1-434f-91e3-9c78141178fb"
      },
      "outputs": [
        {
          "name": "stdout",
          "output_type": "stream",
          "text": [
            "int64\n"
          ]
        }
      ],
      "source": [
        "print(aryld.dtype)"
      ]
    },
    {
      "cell_type": "code",
      "execution_count": null,
      "metadata": {
        "colab": {
          "base_uri": "https://localhost:8080/"
        },
        "id": "g7YD7axnuvjR",
        "outputId": "37d7266a-da61-4439-e821-2999764c31b7"
      },
      "outputs": [
        {
          "name": "stdout",
          "output_type": "stream",
          "text": [
            "[[1. 2. 3.]\n",
            " [4. 5. 6.]]\n"
          ]
        }
      ],
      "source": [
        "rc=aryld.astype(np.float32)\n",
        "print(rc)"
      ]
    },
    {
      "cell_type": "code",
      "execution_count": null,
      "metadata": {
        "colab": {
          "base_uri": "https://localhost:8080/"
        },
        "id": "t1TWUrQwvaWj",
        "outputId": "bb3a9214-96c6-4bd3-c3d2-42a84e3ebdb3"
      },
      "outputs": [
        {
          "name": "stdout",
          "output_type": "stream",
          "text": [
            "8\n"
          ]
        }
      ],
      "source": [
        "print(aryld.itemsize)"
      ]
    },
    {
      "cell_type": "code",
      "execution_count": null,
      "metadata": {
        "colab": {
          "base_uri": "https://localhost:8080/"
        },
        "id": "ABnh7qFzvkHZ",
        "outputId": "9d1ed995-2ce5-4433-a63a-20f596a3c42e"
      },
      "outputs": [
        {
          "name": "stdout",
          "output_type": "stream",
          "text": [
            "4\n"
          ]
        }
      ],
      "source": [
        "print(rc.itemsize)"
      ]
    },
    {
      "cell_type": "code",
      "execution_count": null,
      "metadata": {
        "colab": {
          "base_uri": "https://localhost:8080/"
        },
        "id": "fJpB8bHGv93Y",
        "outputId": "fce7c2c2-2f27-4012-f987-6f25ac16951c"
      },
      "outputs": [
        {
          "name": "stdout",
          "output_type": "stream",
          "text": [
            "8\n",
            "6\n"
          ]
        }
      ],
      "source": [
        "rc1=aryld.astype(np.float64)\n",
        "print(rc1.itemsize)\n",
        "print(rc1.size)"
      ]
    },
    {
      "cell_type": "code",
      "execution_count": null,
      "metadata": {
        "colab": {
          "base_uri": "https://localhost:8080/"
        },
        "id": "gRVAxQZiwyxx",
        "outputId": "8f2b8e02-5586-473f-aa8d-5daf67310912"
      },
      "outputs": [
        {
          "name": "stdout",
          "output_type": "stream",
          "text": [
            "2\n"
          ]
        }
      ],
      "source": [
        "print(rc1.ndim)"
      ]
    },
    {
      "cell_type": "code",
      "execution_count": null,
      "metadata": {
        "colab": {
          "base_uri": "https://localhost:8080/"
        },
        "id": "YcqtLZMYwMY5",
        "outputId": "e9cbc559-4e05-46c3-9236-bd00e61231b8"
      },
      "outputs": [
        {
          "name": "stdout",
          "output_type": "stream",
          "text": [
            "6\n"
          ]
        }
      ],
      "source": [
        "print(rc1.size)"
      ]
    },
    {
      "cell_type": "markdown",
      "metadata": {
        "id": "7_pV7a9kxlkQ"
      },
      "source": [
        "#Tupple of (row,column)"
      ]
    },
    {
      "cell_type": "code",
      "execution_count": null,
      "metadata": {
        "colab": {
          "base_uri": "https://localhost:8080/"
        },
        "id": "G4gs9B-ixC-u",
        "outputId": "fcabf3d9-674f-402a-c9c7-395d241d5e31"
      },
      "outputs": [
        {
          "name": "stdout",
          "output_type": "stream",
          "text": [
            "(2, 3)\n"
          ]
        }
      ],
      "source": [
        "print(aryld.shape)"
      ]
    },
    {
      "cell_type": "code",
      "execution_count": null,
      "metadata": {
        "colab": {
          "base_uri": "https://localhost:8080/"
        },
        "id": "Bh5ulOfXyZx0",
        "outputId": "eeb28889-bb59-4033-80d3-15aed7b023d5"
      },
      "outputs": [
        {
          "name": "stdout",
          "output_type": "stream",
          "text": [
            "9\n"
          ]
        }
      ],
      "source": [
        "sc=np.array(9)\n",
        "print(sc)"
      ]
    },
    {
      "cell_type": "code",
      "execution_count": null,
      "metadata": {
        "colab": {
          "base_uri": "https://localhost:8080/"
        },
        "id": "orwm6kZ6ygYD",
        "outputId": "11455eb8-a628-43cd-b271-a27e0aacedf1"
      },
      "outputs": [
        {
          "name": "stdout",
          "output_type": "stream",
          "text": [
            "0\n"
          ]
        }
      ],
      "source": [
        "print(sc.ndim)"
      ]
    },
    {
      "cell_type": "code",
      "execution_count": null,
      "metadata": {
        "colab": {
          "base_uri": "https://localhost:8080/"
        },
        "id": "mkRfSCCpynml",
        "outputId": "b9d5ba37-4e90-42a3-acd7-58e35f2120d6"
      },
      "outputs": [
        {
          "name": "stdout",
          "output_type": "stream",
          "text": [
            "()\n"
          ]
        }
      ],
      "source": [
        "print(sc.shape)"
      ]
    },
    {
      "cell_type": "code",
      "execution_count": null,
      "metadata": {
        "colab": {
          "base_uri": "https://localhost:8080/"
        },
        "id": "M0IdBUg_zTW0",
        "outputId": "7c4d03b7-200b-49bc-e165-df7ddfb8af6b"
      },
      "outputs": [
        {
          "name": "stdout",
          "output_type": "stream",
          "text": [
            "[0 2 4 6 8]\n"
          ]
        }
      ],
      "source": [
        "def generator():\n",
        "  for i in range(10):\n",
        "    if i%2==False:\n",
        "      yield i\n",
        "gen = generator()\n",
        "print(np.fromiter(gen, dtype=int))"
      ]
    },
    {
      "cell_type": "markdown",
      "metadata": {
        "id": "0Qg8_krG65XJ"
      },
      "source": [
        "#Arrray with only ones or only zeros"
      ]
    },
    {
      "cell_type": "code",
      "execution_count": null,
      "metadata": {
        "colab": {
          "base_uri": "https://localhost:8080/"
        },
        "id": "P54D2OEl6yN1",
        "outputId": "584e7292-469a-45f8-8cea-1bea28c73137"
      },
      "outputs": [
        {
          "name": "stdout",
          "output_type": "stream",
          "text": [
            "[[1. 1. 1. 1. 1. 1.]\n",
            " [1. 1. 1. 1. 1. 1.]\n",
            " [1. 1. 1. 1. 1. 1.]\n",
            " [1. 1. 1. 1. 1. 1.]\n",
            " [1. 1. 1. 1. 1. 1.]\n",
            " [1. 1. 1. 1. 1. 1.]]\n"
          ]
        }
      ],
      "source": [
        "print(np.ones((6,6)))"
      ]
    },
    {
      "cell_type": "code",
      "execution_count": null,
      "metadata": {
        "colab": {
          "base_uri": "https://localhost:8080/"
        },
        "id": "XkkOAI3u7Qi6",
        "outputId": "c2274919-684e-41c1-e207-b96f693415e1"
      },
      "outputs": [
        {
          "name": "stdout",
          "output_type": "stream",
          "text": [
            "[[0. 0. 0. 0.]\n",
            " [0. 0. 0. 0.]\n",
            " [0. 0. 0. 0.]\n",
            " [0. 0. 0. 0.]]\n"
          ]
        }
      ],
      "source": [
        "print(np.zeros((4,4)))"
      ]
    },
    {
      "cell_type": "markdown",
      "metadata": {
        "id": "i4fE1W0j8ks6"
      },
      "source": [
        "#identity matrix with numpy"
      ]
    },
    {
      "cell_type": "code",
      "execution_count": null,
      "metadata": {
        "colab": {
          "base_uri": "https://localhost:8080/"
        },
        "id": "0H696AC98P1a",
        "outputId": "40824f52-bf5b-42e6-dcdd-2ac38a91bc4d"
      },
      "outputs": [
        {
          "name": "stdout",
          "output_type": "stream",
          "text": [
            "[[1. 0. 0.]\n",
            " [0. 1. 0.]\n",
            " [0. 0. 1.]]\n"
          ]
        }
      ],
      "source": [
        "print(np.eye(3))"
      ]
    },
    {
      "cell_type": "markdown",
      "metadata": {
        "id": "FTRJc4AN8-2w"
      },
      "source": [
        "#diagonal matrix\n"
      ]
    },
    {
      "cell_type": "code",
      "execution_count": null,
      "metadata": {
        "colab": {
          "base_uri": "https://localhost:8080/"
        },
        "id": "vSoVsv8b8jvZ",
        "outputId": "92bbb657-1745-473b-872e-47c00527fa22"
      },
      "outputs": [
        {
          "name": "stdout",
          "output_type": "stream",
          "text": [
            "[[4 0 0]\n",
            " [0 1 0]\n",
            " [0 0 3]]\n"
          ]
        }
      ],
      "source": [
        "print(np.diag((4,1,3)))"
      ]
    },
    {
      "cell_type": "markdown",
      "metadata": {
        "id": "ujQYKgcq9b_U"
      },
      "source": [
        "#printing list with arange function in numpy"
      ]
    },
    {
      "cell_type": "code",
      "execution_count": null,
      "metadata": {
        "colab": {
          "base_uri": "https://localhost:8080/"
        },
        "id": "Jd4G-3y79li5",
        "outputId": "2e2ce3c7-34a6-4b92-a7c6-4b02f268bc0d"
      },
      "outputs": [
        {
          "name": "stdout",
          "output_type": "stream",
          "text": [
            "[ 67  75  83  91  99 107 115 123 131 139 147 155 163 171 179 187 195 203\n",
            " 211 219 227 235 243 251 259 267 275 283 291 299 307 315 323 331 339 347\n",
            " 355 363 371 379 387 395 403 411 419 427 435 443 451 459 467 475 483 491\n",
            " 499 507 515 523 531 539 547 555 563 571 579 587 595 603 611 619 627 635\n",
            " 643 651 659]\n"
          ]
        }
      ],
      "source": [
        "print(np.arange(67,667,8))"
      ]
    },
    {
      "cell_type": "markdown",
      "metadata": {
        "id": "FftMjJLWBd3U"
      },
      "source": [
        "#spliting a range in eventually spaced value"
      ]
    },
    {
      "cell_type": "code",
      "execution_count": null,
      "metadata": {
        "colab": {
          "base_uri": "https://localhost:8080/"
        },
        "id": "dCR8oNCGBrnt",
        "outputId": "6378ff4c-ecab-4cdd-f04b-2a0beca8a982"
      },
      "outputs": [
        {
          "name": "stdout",
          "output_type": "stream",
          "text": [
            "[0.    0.125 0.25  0.375 0.5   0.625 0.75  0.875 1.   ]\n"
          ]
        }
      ],
      "source": [
        "print(np.linspace(0., 1., num=9))"
      ]
    },
    {
      "cell_type": "markdown",
      "metadata": {
        "id": "jHNNXNkqE8rX"
      },
      "source": [
        "#Array indexing\n"
      ]
    },
    {
      "cell_type": "code",
      "execution_count": null,
      "metadata": {
        "colab": {
          "base_uri": "https://localhost:8080/"
        },
        "id": "FRtRMs5QFAYo",
        "outputId": "550825f5-fdc3-424e-83a0-2bd1b73219d0"
      },
      "outputs": [
        {
          "name": "stdout",
          "output_type": "stream",
          "text": [
            "3\n"
          ]
        }
      ],
      "source": [
        "ary=np.array([0,1,2,3,78])\n",
        "print(ary[3])"
      ]
    },
    {
      "cell_type": "code",
      "execution_count": null,
      "metadata": {
        "colab": {
          "base_uri": "https://localhost:8080/"
        },
        "id": "sajIWWlRG_Zb",
        "outputId": "50487d81-bbd4-41f8-c422-7d8d2c5ab282"
      },
      "outputs": [
        {
          "output_type": "stream",
          "name": "stdout",
          "text": [
            "9\n",
            "21\n",
            "[ 4  9  8 16  7]\n",
            "[ 4 13]\n",
            "[[ 4  9  8]\n",
            " [13 15 17]]\n"
          ]
        }
      ],
      "source": [
        "ary1=np.array([[4,9,8,16,7],\n",
        "              [13,15,17,19,21]])\n",
        "\n",
        "print(ary1[0,1])\n",
        "print(ary1[-1,-1])\n",
        "print(ary1[0])#entire first row\n",
        "print(ary1[:,0])#entire first column\n",
        "print(ary1[:, :3])#first three columns"
      ]
    },
    {
      "cell_type": "markdown",
      "metadata": {
        "id": "qsZOM5fWoUr8"
      },
      "source": [
        "#comparing computation time of general python list and numpy array"
      ]
    },
    {
      "cell_type": "code",
      "execution_count": null,
      "metadata": {
        "colab": {
          "base_uri": "https://localhost:8080/"
        },
        "id": "hVQ9x8-EoDce",
        "outputId": "e5a897f2-6e57-4db9-e6e7-a9a492b31ef4"
      },
      "outputs": [
        {
          "name": "stdout",
          "output_type": "stream",
          "text": [
            "Python list took time: 126.70636177062988\n",
            "Numpy array took time: 20.032644271850586\n"
          ]
        }
      ],
      "source": [
        "S = 1000000\n",
        "l1 = range(S)\n",
        "l2 = range(S)\n",
        "a1 = np.arange(S)\n",
        "a2 = np.arange(S)\n",
        "# python list\n",
        "start = time.time()\n",
        "result = [x+y for x,y in zip(l1,l2)]\n",
        "print(\"Python list took time:\",(time.time()-start)*1000)\n",
        "#numpy array\n",
        "start = time.time()\n",
        "result = a1+a2\n",
        "print(\"Numpy array took time:\",(time.time()-start)*1000)"
      ]
    },
    {
      "cell_type": "markdown",
      "metadata": {
        "id": "z_0aoSBKvJOK"
      },
      "source": [
        "#making complex data type of an array and printing it"
      ]
    },
    {
      "cell_type": "code",
      "execution_count": null,
      "metadata": {
        "colab": {
          "base_uri": "https://localhost:8080/"
        },
        "id": "YzGLwmMMt1T3",
        "outputId": "10dfec32-92cd-48b8-e497-e5c44e477e20"
      },
      "outputs": [
        {
          "name": "stdout",
          "output_type": "stream",
          "text": [
            "[[1.+0.j 2.+0.j]\n",
            " [3.+0.j 4.+0.j]\n",
            " [5.+0.j 6.+0.j]]\n"
          ]
        }
      ],
      "source": [
        "a=np.array([[1,2], [3,4], [5,6]], dtype=complex)\n",
        "print(a)"
      ]
    },
    {
      "cell_type": "markdown",
      "metadata": {
        "id": "TVzO7rqz2U5r"
      },
      "source": [
        "#reshaping an array in numpy"
      ]
    },
    {
      "cell_type": "code",
      "execution_count": null,
      "metadata": {
        "colab": {
          "base_uri": "https://localhost:8080/"
        },
        "id": "VssKS3iq2kny",
        "outputId": "15fc9003-4e72-401c-806d-b21016824f03"
      },
      "outputs": [
        {
          "name": "stdout",
          "output_type": "stream",
          "text": [
            "(2, 5)\n",
            "[[ 4  9]\n",
            " [ 8 16]\n",
            " [ 7 13]\n",
            " [15 17]\n",
            " [19 21]]\n"
          ]
        }
      ],
      "source": [
        "print(ary1.shape)\n",
        "print(ary1.reshape(5,2))  # reshaping the array\n"
      ]
    },
    {
      "cell_type": "markdown",
      "metadata": {
        "id": "xN_h8iI16bj4"
      },
      "source": [
        "#transforming 2D  array to 1D array and other functions"
      ]
    },
    {
      "cell_type": "code",
      "execution_count": null,
      "metadata": {
        "colab": {
          "base_uri": "https://localhost:8080/"
        },
        "id": "LMCqchej61oN",
        "outputId": "d316582e-60be-4aa5-bf8d-3f1a30a82f3f"
      },
      "outputs": [
        {
          "name": "stdout",
          "output_type": "stream",
          "text": [
            "[ 4  9  8 16  7 13 15 17 19 21]\n",
            "4\n",
            "21\n",
            "129\n",
            "[17 24 25 35 28]\n",
            "[44 85]\n",
            "[[2.         3.         2.82842712 4.         2.64575131]\n",
            " [3.60555128 3.87298335 4.12310563 4.35889894 4.58257569]]\n",
            "5.356304696336832\n"
          ]
        }
      ],
      "source": [
        "print(ary1.ravel())\n",
        "print(ary1.min())\n",
        "print(ary1.max())\n",
        "print(ary1.sum())\n",
        "print(ary1.sum(axis=0))\n",
        "print(ary1.sum(axis=1))\n",
        "print(np.sqrt(ary1))\n",
        "print(np.std(ary1))"
      ]
    },
    {
      "cell_type": "code",
      "execution_count": null,
      "metadata": {
        "colab": {
          "base_uri": "https://localhost:8080/"
        },
        "id": "O01llc9kSbUp",
        "outputId": "d7e4fb57-19e1-477e-fbec-2e03800c26f5"
      },
      "outputs": [
        {
          "output_type": "stream",
          "name": "stdout",
          "text": [
            "[[34 39]\n",
            " [62 71]]\n"
          ]
        }
      ],
      "source": [
        "ary2=np.array([[2,3],\n",
        "               [4,5]])\n",
        "ary3=np.array([[8,9],\n",
        "               [6,7]])\n",
        "ary4=np.array([[29,23],\n",
        "               [19,17]])\n",
        "ary5=np.array([[56,45],\n",
        "               [78,99]])\n",
        "print(ary2.dot(ary3))"
      ]
    },
    {
      "cell_type": "code",
      "source": [
        "print(ary1[0:2,2])\n",
        "print(ary1[-1])\n",
        "print(ary1[-1,0:2])\n",
        "for row in ary1:\n",
        "  print(row)\n",
        "for cell in ary1.flat:\n",
        "  print(cell)\n",
        "print(np.vstack((ary2,ary3,ary4,ary5)))"
      ],
      "metadata": {
        "colab": {
          "base_uri": "https://localhost:8080/"
        },
        "id": "4duP_AGZo6RW",
        "outputId": "293afcb2-2bb5-4979-99ad-d1d6d0114a5d"
      },
      "execution_count": null,
      "outputs": [
        {
          "output_type": "stream",
          "name": "stdout",
          "text": [
            "[ 8 17]\n",
            "[13 15 17 19 21]\n",
            "[13 15]\n",
            "[ 4  9  8 16  7]\n",
            "[13 15 17 19 21]\n",
            "4\n",
            "9\n",
            "8\n",
            "16\n",
            "7\n",
            "13\n",
            "15\n",
            "17\n",
            "19\n",
            "21\n",
            "[[ 2  3]\n",
            " [ 4  5]\n",
            " [ 8  9]\n",
            " [ 6  7]\n",
            " [29 23]\n",
            " [19 17]\n",
            " [56 45]\n",
            " [78 99]]\n"
          ]
        }
      ]
    },
    {
      "cell_type": "code",
      "source": [
        "abc=np.arange(30).reshape(2,15)\n",
        "print(abc)"
      ],
      "metadata": {
        "colab": {
          "base_uri": "https://localhost:8080/"
        },
        "id": "NBBajHNTjicz",
        "outputId": "b4c70c73-bd72-48c8-bf16-1a0e7be139c2"
      },
      "execution_count": 7,
      "outputs": [
        {
          "output_type": "stream",
          "name": "stdout",
          "text": [
            "[[ 0  1  2  3  4  5  6  7  8  9 10 11 12 13 14]\n",
            " [15 16 17 18 19 20 21 22 23 24 25 26 27 28 29]]\n"
          ]
        }
      ]
    },
    {
      "cell_type": "code",
      "source": [
        "print(np.hsplit(abc,3))\n",
        "print(np.vsplit(abc,2))"
      ],
      "metadata": {
        "colab": {
          "base_uri": "https://localhost:8080/"
        },
        "id": "1VOGmDeWkx__",
        "outputId": "a0bf5fed-0cbc-4933-e6ad-542785579806"
      },
      "execution_count": 10,
      "outputs": [
        {
          "output_type": "stream",
          "name": "stdout",
          "text": [
            "[array([[ 0,  1,  2,  3,  4],\n",
            "       [15, 16, 17, 18, 19]]), array([[ 5,  6,  7,  8,  9],\n",
            "       [20, 21, 22, 23, 24]]), array([[10, 11, 12, 13, 14],\n",
            "       [25, 26, 27, 28, 29]])]\n",
            "[array([[ 0,  1,  2,  3,  4,  5,  6,  7,  8,  9, 10, 11, 12, 13, 14]]), array([[15, 16, 17, 18, 19, 20, 21, 22, 23, 24, 25, 26, 27, 28, 29]])]\n"
          ]
        }
      ]
    },
    {
      "cell_type": "code",
      "source": [
        "ab=np.arange(12).reshape(3,4)\n",
        "print(ab)\n",
        "ab1 = ab>4\n",
        "print(ab1)\n",
        "print(ab[ab1])\n",
        "ab[ab1]=-1\n",
        "print(ab)"
      ],
      "metadata": {
        "colab": {
          "base_uri": "https://localhost:8080/"
        },
        "id": "wmEA6IDkKIwc",
        "outputId": "39796d1b-4aae-458b-9464-8f991664d6a9"
      },
      "execution_count": 16,
      "outputs": [
        {
          "output_type": "stream",
          "name": "stdout",
          "text": [
            "[[ 0  1  2  3]\n",
            " [ 4  5  6  7]\n",
            " [ 8  9 10 11]]\n",
            "[[False False False False]\n",
            " [False  True  True  True]\n",
            " [ True  True  True  True]]\n",
            "[ 5  6  7  8  9 10 11]\n",
            "[[ 0  1  2  3]\n",
            " [ 4 -1 -1 -1]\n",
            " [-1 -1 -1 -1]]\n"
          ]
        }
      ]
    },
    {
      "cell_type": "code",
      "source": [
        "for row in ab:\n",
        "  for cell in row:\n",
        "    print(cell)"
      ],
      "metadata": {
        "colab": {
          "base_uri": "https://localhost:8080/"
        },
        "id": "g7kaCICLdDvV",
        "outputId": "61a750f6-15f5-4821-fea5-82e17b71639c"
      },
      "execution_count": 17,
      "outputs": [
        {
          "output_type": "stream",
          "name": "stdout",
          "text": [
            "0\n",
            "1\n",
            "2\n",
            "3\n",
            "4\n",
            "-1\n",
            "-1\n",
            "-1\n",
            "-1\n",
            "-1\n",
            "-1\n",
            "-1\n"
          ]
        }
      ]
    },
    {
      "cell_type": "code",
      "source": [
        "for cell in ab.flatten():\n",
        "  print(cell)"
      ],
      "metadata": {
        "colab": {
          "base_uri": "https://localhost:8080/"
        },
        "id": "rcieH2QfdpHM",
        "outputId": "1cdea21f-b615-48ff-aca3-df5b6841eed3"
      },
      "execution_count": 18,
      "outputs": [
        {
          "output_type": "stream",
          "name": "stdout",
          "text": [
            "0\n",
            "1\n",
            "2\n",
            "3\n",
            "4\n",
            "-1\n",
            "-1\n",
            "-1\n",
            "-1\n",
            "-1\n",
            "-1\n",
            "-1\n"
          ]
        }
      ]
    },
    {
      "cell_type": "code",
      "source": [
        "for x in np.nditer(ab,order='C'):\n",
        "  print(x)"
      ],
      "metadata": {
        "colab": {
          "base_uri": "https://localhost:8080/"
        },
        "id": "nmz5KnrsdyaU",
        "outputId": "d79fcd87-d023-4c4d-a149-8129f8564b5d"
      },
      "execution_count": 19,
      "outputs": [
        {
          "output_type": "stream",
          "name": "stdout",
          "text": [
            "0\n",
            "1\n",
            "2\n",
            "3\n",
            "4\n",
            "-1\n",
            "-1\n",
            "-1\n",
            "-1\n",
            "-1\n",
            "-1\n",
            "-1\n"
          ]
        }
      ]
    },
    {
      "cell_type": "code",
      "source": [
        "for x in np.nditer(ab,order='F'):\n",
        "  print(x)"
      ],
      "metadata": {
        "colab": {
          "base_uri": "https://localhost:8080/"
        },
        "id": "tO8RDGZ-eQ_s",
        "outputId": "7bacb06e-206b-40ce-f1a6-b5a316142f7f"
      },
      "execution_count": 20,
      "outputs": [
        {
          "output_type": "stream",
          "name": "stdout",
          "text": [
            "0\n",
            "4\n",
            "-1\n",
            "1\n",
            "-1\n",
            "-1\n",
            "2\n",
            "-1\n",
            "-1\n",
            "3\n",
            "-1\n",
            "-1\n"
          ]
        }
      ]
    },
    {
      "cell_type": "code",
      "source": [
        "for x in np.nditer(ab,order='F',flags=['external_loop']):\n",
        "  print(x)"
      ],
      "metadata": {
        "colab": {
          "base_uri": "https://localhost:8080/"
        },
        "id": "isRU0fwIex5d",
        "outputId": "8486b08f-e72d-4843-8655-8f95b0ab41cc"
      },
      "execution_count": 21,
      "outputs": [
        {
          "output_type": "stream",
          "name": "stdout",
          "text": [
            "[ 0  4 -1]\n",
            "[ 1 -1 -1]\n",
            "[ 2 -1 -1]\n",
            "[ 3 -1 -1]\n"
          ]
        }
      ]
    },
    {
      "cell_type": "code",
      "source": [
        "for x in np.nditer(ab,op_flags=['readwrite']):\n",
        "  x[...]=x*x\n",
        "print(ab)"
      ],
      "metadata": {
        "colab": {
          "base_uri": "https://localhost:8080/"
        },
        "id": "Q8v2GJHifbhE",
        "outputId": "89c64e38-65c1-4316-849d-5e67385cc800"
      },
      "execution_count": 23,
      "outputs": [
        {
          "output_type": "stream",
          "name": "stdout",
          "text": [
            "[[ 0  1  4  9]\n",
            " [16  1  1  1]\n",
            " [ 1  1  1  1]]\n"
          ]
        }
      ]
    },
    {
      "cell_type": "code",
      "source": [
        "for x,y in np.nditer([ab,ab1]):\n",
        "  print(x,y)"
      ],
      "metadata": {
        "colab": {
          "base_uri": "https://localhost:8080/"
        },
        "id": "DH09xESOhOPl",
        "outputId": "f748776f-3958-468c-e857-aef3112731df"
      },
      "execution_count": 24,
      "outputs": [
        {
          "output_type": "stream",
          "name": "stdout",
          "text": [
            "0 False\n",
            "1 False\n",
            "4 False\n",
            "9 False\n",
            "16 False\n",
            "1 True\n",
            "1 True\n",
            "1 True\n",
            "1 True\n",
            "1 True\n",
            "1 True\n",
            "1 True\n"
          ]
        }
      ]
    }
  ],
  "metadata": {
    "colab": {
      "provenance": []
    },
    "kernelspec": {
      "display_name": "Python 3",
      "name": "python3"
    },
    "language_info": {
      "name": "python"
    }
  },
  "nbformat": 4,
  "nbformat_minor": 0
}